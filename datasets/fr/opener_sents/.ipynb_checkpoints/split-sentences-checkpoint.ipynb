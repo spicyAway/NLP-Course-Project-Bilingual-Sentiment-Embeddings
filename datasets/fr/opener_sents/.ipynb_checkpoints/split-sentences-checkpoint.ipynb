{
 "cells": [
  {
   "cell_type": "code",
   "execution_count": 6,
   "metadata": {},
   "outputs": [],
   "source": [
    "import nltk\n",
    "def split(infile, outfile):\n",
    "    \n",
    "    with open(infile, 'rb') as file:\n",
    "        reviews = file.readlines()\n",
    "        \n",
    "    result = []\n",
    "    for r in reviews:\n",
    "        sent_text = nltk.sent_tokenize(r.decode('utf-8'))\n",
    "        sent_text = [s for s in sent_text if len(s) >= 2]\n",
    "        result += sent_text\n",
    "    \n",
    "    with open(outfile, 'w') as file:\n",
    "        for s in result:\n",
    "            file.write(s + \"\\n\")"
   ]
  },
  {
   "cell_type": "code",
   "execution_count": 11,
   "metadata": {},
   "outputs": [],
   "source": [
    "split('strongneg.txt', 's_strongneg.txt')"
   ]
  },
  {
   "cell_type": "code",
   "execution_count": null,
   "metadata": {
    "collapsed": true
   },
   "outputs": [],
   "source": []
  }
 ],
 "metadata": {
  "kernelspec": {
   "display_name": "Python 3",
   "language": "python",
   "name": "python3"
  },
  "language_info": {
   "codemirror_mode": {
    "name": "ipython",
    "version": 3
   },
   "file_extension": ".py",
   "mimetype": "text/x-python",
   "name": "python",
   "nbconvert_exporter": "python",
   "pygments_lexer": "ipython3",
   "version": "3.6.7"
  }
 },
 "nbformat": 4,
 "nbformat_minor": 2
}
