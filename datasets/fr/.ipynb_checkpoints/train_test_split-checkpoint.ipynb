{
 "cells": [
  {
   "cell_type": "code",
   "execution_count": 9,
   "metadata": {
    "collapsed": true
   },
   "outputs": [],
   "source": [
    "with open(\"pos.txt\") as f:\n",
    "    data_pos = f.readlines()\n",
    "with open(\"neg.txt\") as f:\n",
    "    data_neg = f.readlines()\n",
    "with open(\"strongneg.txt\") as f:\n",
    "    data_sneg = f.readlines()\n",
    "with open(\"strongpos.txt\") as f:\n",
    "    data_spos = f.readlines()"
   ]
  },
  {
   "cell_type": "code",
   "execution_count": 10,
   "metadata": {
    "collapsed": false
   },
   "outputs": [
    {
     "name": "stdout",
     "output_type": "stream",
     "text": [
      "(145, 130, 393, 610)\n"
     ]
    }
   ],
   "source": [
    "print (len(data_pos), len(data_neg), len(data_sneg), len(data_spos))"
   ]
  },
  {
   "cell_type": "code",
   "execution_count": 28,
   "metadata": {
    "collapsed": true
   },
   "outputs": [],
   "source": [
    "def split(data, name):\n",
    "    train = (int) (len(data) * 0.7)\n",
    "    dev = (int) (len(data) * 0.8)\n",
    "    train_data = data[0:train]\n",
    "    dev_data = data[train:dev]\n",
    "    test_data = data[dev:]\n",
    "    with open(\"train/\" + name + \".txt\", \"w\") as f:\n",
    "        for item in train_data:\n",
    "            f.write(item)\n",
    "    with open(\"dev/\" + name + \".txt\", \"w\") as f:\n",
    "        for item in dev_data:\n",
    "            f.write(item)\n",
    "    with open(\"test/\" + name + \".txt\", \"w\") as f:\n",
    "        for item in test_data:\n",
    "            f.write(item)"
   ]
  },
  {
   "cell_type": "code",
   "execution_count": 29,
   "metadata": {
    "collapsed": false
   },
   "outputs": [],
   "source": [
    "split(data_pos, \"pos\")"
   ]
  },
  {
   "cell_type": "code",
   "execution_count": 30,
   "metadata": {
    "collapsed": true
   },
   "outputs": [],
   "source": [
    "split(data_neg, \"neg\")\n",
    "split(data_sneg, \"strongneg\")\n",
    "split(data_spos, \"strongpos\")"
   ]
  },
  {
   "cell_type": "code",
   "execution_count": null,
   "metadata": {
    "collapsed": true
   },
   "outputs": [],
   "source": []
  }
 ],
 "metadata": {
  "kernelspec": {
   "display_name": "Python 2",
   "language": "python",
   "name": "python2"
  },
  "language_info": {
   "codemirror_mode": {
    "name": "ipython",
    "version": 2
   },
   "file_extension": ".py",
   "mimetype": "text/x-python",
   "name": "python",
   "nbconvert_exporter": "python",
   "pygments_lexer": "ipython2",
   "version": "2.7.15"
  }
 },
 "nbformat": 4,
 "nbformat_minor": 2
}
